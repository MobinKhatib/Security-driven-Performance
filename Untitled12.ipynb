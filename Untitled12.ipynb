{
  "cells": [
    {
      "cell_type": "code",
      "execution_count": 1,
      "metadata": {
        "colab": {
          "base_uri": "https://localhost:8080/"
        },
        "id": "FP2f5wokX1z1",
        "outputId": "1670b09b-280b-4181-9ca7-8a43560c4c84"
      },
      "outputs": [
        {
          "name": "stdout",
          "output_type": "stream",
          "text": [
            "Encrypted Data: b'gAAAAABlcIv_2pgXEo_tol7eA7eCqiF-mxzy7FNbLYKPgC_LdlE4I1md24ReRzAtTjk89LZLxWymSc177KKZm7oSqehoJ-Io3dr1bsHxSFE1cS0O9x7Si-sUrKuLiZE9r-LDNENeM3WEE_MKhFmOvr_Et-WVcGVPUw=='\n",
            "Decrypted Data: {'temperature': 25.5, 'humidity': 60.0, 'eCO2': 400}\n"
          ]
        }
      ],
      "source": [
        "from cryptography.fernet import Fernet\n",
        "import os\n",
        "\n",
        "def generate_key():\n",
        "    return Fernet.generate_key()\n",
        "\n",
        "def encrypt_data(data, key):\n",
        "    cipher = Fernet(key)\n",
        "    ciphertext = cipher.encrypt(data.encode())\n",
        "    return ciphertext\n",
        "\n",
        "def decrypt_data(ciphertext, key):\n",
        "    cipher = Fernet(key)\n",
        "    decrypted_data = cipher.decrypt(ciphertext)\n",
        "    return decrypted_data.decode()\n",
        "\n",
        "# Example sensor data\n",
        "sensor_data = {\n",
        "    \"temperature\": 25.5,\n",
        "    \"humidity\": 60.0,\n",
        "    \"eCO2\": 400,\n",
        "    # Add other sensor data as needed\n",
        "}\n",
        "\n",
        "# Convert the dictionary to a string for encryption\n",
        "data_to_encrypt = str(sensor_data)\n",
        "\n",
        "# Generate key\n",
        "key = generate_key()\n",
        "\n",
        "# Encrypt data\n",
        "encrypted_data = encrypt_data(data_to_encrypt, key)\n",
        "print(\"Encrypted Data:\", encrypted_data)\n",
        "\n",
        "# Decrypt data\n",
        "decrypted_data = decrypt_data(encrypted_data, key)\n",
        "print(\"Decrypted Data:\", decrypted_data)\n"
      ]
    },
    {
      "cell_type": "code",
      "execution_count": null,
      "metadata": {},
      "outputs": [],
      "source": []
    }
  ],
  "metadata": {
    "colab": {
      "provenance": []
    },
    "kernelspec": {
      "display_name": "Python 3",
      "name": "python3"
    },
    "language_info": {
      "codemirror_mode": {
        "name": "ipython",
        "version": 3
      },
      "file_extension": ".py",
      "mimetype": "text/x-python",
      "name": "python",
      "nbconvert_exporter": "python",
      "pygments_lexer": "ipython3",
      "version": "3.8.8"
    }
  },
  "nbformat": 4,
  "nbformat_minor": 0
}
